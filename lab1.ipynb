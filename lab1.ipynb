{
  "nbformat": 4,
  "nbformat_minor": 0,
  "metadata": {
    "colab": {
      "provenance": []
    },
    "kernelspec": {
      "name": "python3",
      "display_name": "Python 3"
    },
    "language_info": {
      "name": "python"
    }
  },
  "cells": [
    {
      "cell_type": "markdown",
      "source": [
        "\n",
        "# Заголовок первого уровня\n",
        "## Заголовок второго уровня\n",
        "**Полужирный текст**, *курсив*, `код в строке`\n",
        "<br>Список:\n",
        "- Пункт 1\n",
        "- Пункт 2\n",
        "- Пункт 3\n",
        "<br>Формула: $y = mx + b$"
      ],
      "metadata": {
        "id": "yKgAm_3-BtY4"
      }
    },
    {
      "cell_type": "markdown",
      "source": [],
      "metadata": {
        "id": "GPV1FISsBsL9"
      }
    },
    {
      "cell_type": "code",
      "source": [
        "import os\n",
        "with open(\"example.txt\", \"w\") as f:\n",
        "  f.write(\"Привет!\\n\")\n",
        "  f.write(\"СКФУ\\n\")\n",
        "with open(\"example.txt\", \"r\") as f:\n",
        "  content = f.read()\n",
        "  print(\"Содержимое файла:\\n\", content)\n",
        "print(\"Файл существует:\", os.path.exists(\"example.txt\"))\n",
        "os.remove(\"example.txt\")\n",
        "print(\"Файл удален.\")"
      ],
      "metadata": {
        "colab": {
          "base_uri": "https://localhost:8080/"
        },
        "id": "MFbm_6AtDhKW",
        "outputId": "787feac2-133f-4c69-bd2c-b78bce440169"
      },
      "execution_count": null,
      "outputs": [
        {
          "output_type": "stream",
          "name": "stdout",
          "text": [
            "Содержимое файла:\n",
            " Привет!\n",
            "СКФУ\n",
            "\n",
            "Файл существует: True\n",
            "Файл удален.\n"
          ]
        }
      ]
    },
    {
      "cell_type": "code",
      "source": [
        "%%writefile script.py\n",
        "%lsmagic\n",
        "%time sum(range(1000000))\n",
        "%%timeit sum(range(1000000))\n",
        "%%writefile script.py\n",
        "print(\"Hello, World!\")\n",
        "!python script.py\n",
        "%ls\n",
        "%history\n"
      ],
      "metadata": {
        "colab": {
          "base_uri": "https://localhost:8080/"
        },
        "id": "2GsCgMsyjDxL",
        "outputId": "e8378d4c-dafd-465b-c43a-8331884279cd"
      },
      "execution_count": null,
      "outputs": [
        {
          "output_type": "stream",
          "name": "stdout",
          "text": [
            "Overwriting script.py\n"
          ]
        }
      ]
    },
    {
      "cell_type": "code",
      "source": [
        "!ls\n",
        "!which python\n",
        "!mkdir new_folder\n",
        "!rmdir new_folder"
      ],
      "metadata": {
        "colab": {
          "base_uri": "https://localhost:8080/"
        },
        "id": "0EIYhZq50ZhK",
        "outputId": "e8eda98c-015d-4f15-f26a-22baed0d2f74"
      },
      "execution_count": null,
      "outputs": [
        {
          "output_type": "stream",
          "name": "stdout",
          "text": [
            "sample_data  script.py\n",
            "/usr/local/bin/python\n"
          ]
        }
      ]
    },
    {
      "cell_type": "code",
      "source": [
        "from google.colab import drive\n",
        "drive.mount('/content/drive')"
      ],
      "metadata": {
        "colab": {
          "base_uri": "https://localhost:8080/"
        },
        "id": "6xo6oJWg3K6W",
        "outputId": "ef8e73be-39b5-4153-8542-0f857e1e4910"
      },
      "execution_count": null,
      "outputs": [
        {
          "output_type": "stream",
          "name": "stdout",
          "text": [
            "Mounted at /content/drive\n"
          ]
        }
      ]
    },
    {
      "cell_type": "code",
      "source": [
        "!ls /content/drive/MyDrive"
      ],
      "metadata": {
        "colab": {
          "base_uri": "https://localhost:8080/"
        },
        "id": "o-aRiF313a7E",
        "outputId": "5fd0b4c3-1123-468c-9694-0ccd3a117e73"
      },
      "execution_count": null,
      "outputs": [
        {
          "output_type": "stream",
          "name": "stdout",
          "text": [
            "'Colab Notebooks'\n"
          ]
        }
      ]
    },
    {
      "cell_type": "code",
      "source": [
        "from google.colab import drive\n",
        "drive.mount('/content/drive')\n",
        "file_path = '/content/drive/MyDrive/text.txt'\n",
        "with open(file_path, 'w') as file:\n",
        "    file.write('Привет!\\n')\n",
        "    file.write('СКФУ\\n')\n",
        "    file.write('2025\\n')\n",
        "print('Файл успешно сохранен в Google Drive.')\n",
        "import os\n",
        "if os.path.exists(file_path):\n",
        "    print('Файл существует!')\n",
        "else:\n",
        "    print('Файл не найден!')\n",
        "with open(file_path, 'r') as file:\n",
        "    content = file.read()\n",
        "print('Содержимое файла:')\n",
        "print(content)\n",
        "students = [\n",
        "    ['Белов Вадим', 20, 'Группа 1'],\n",
        "    ['Бакулин Вадим', 21, 'Группа 2'],\n",
        "    ['Кравчук Мирослав', 22, 'Группа 3']\n",
        "]\n",
        "csv_path = '/content/drive/MyDrive/students.csv'\n",
        "with open(csv_path, 'w') as csv_file:\n",
        "    for student in students:\n",
        "        line = ','.join([str(item) for item in student]) + '\\n'\n",
        "        csv_file.write(line)\n",
        "print('CSV-файл успешно сохранен в Google Drive.')\n"
      ],
      "metadata": {
        "colab": {
          "base_uri": "https://localhost:8080/"
        },
        "id": "3oINVZ7o6i6o",
        "outputId": "3ef0dc22-85ec-44f8-c3b6-5863093e1105"
      },
      "execution_count": null,
      "outputs": [
        {
          "output_type": "stream",
          "name": "stdout",
          "text": [
            "Drive already mounted at /content/drive; to attempt to forcibly remount, call drive.mount(\"/content/drive\", force_remount=True).\n",
            "Файл успешно сохранен в Google Drive.\n",
            "Файл существует!\n",
            "Содержимое файла:\n",
            "Привет!\n",
            "СКФУ\n",
            "2025\n",
            "\n",
            "CSV-файл успешно сохранен в Google Drive.\n"
          ]
        }
      ]
    }
  ]
}