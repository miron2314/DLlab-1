{
  "nbformat": 4,
  "nbformat_minor": 0,
  "metadata": {
    "colab": {
      "provenance": []
    },
    "kernelspec": {
      "name": "python3",
      "display_name": "Python 3"
    },
    "language_info": {
      "name": "python"
    }
  },
  "cells": [
    {
      "cell_type": "markdown",
      "source": [
        "\n",
        "# Заголовок первого уровня\n",
        "## Заголовок второго уровня\n",
        "**Полужирный текст**, *курсив*, `код в строке`\n",
        "<br>Список:\n",
        "- Пункт 1\n",
        "- Пункт 2\n",
        "- Пункт 3\n",
        "<br>Формула: $y = mx + b$"
      ],
      "metadata": {
        "id": "yKgAm_3-BtY4"
      }
    },
    {
      "cell_type": "markdown",
      "source": [],
      "metadata": {
        "id": "GPV1FISsBsL9"
      }
    },
    {
      "cell_type": "code",
      "source": [
        "import os\n",
        "with open(\"example.txt\", \"w\") as f:\n",
        "  f.write(\"Привет!\\n\")\n",
        "  f.write(\"СКФУ\\n\")\n",
        "with open(\"example.txt\", \"r\") as f:\n",
        "  content = f.read()\n",
        "  print(\"Содержимое файла:\\n\", content)\n",
        "print(\"Файл существует:\", os.path.exists(\"example.txt\"))\n",
        "os.remove(\"example.txt\")\n",
        "print(\"Файл удален.\")"
      ],
      "metadata": {
        "colab": {
          "base_uri": "https://localhost:8080/"
        },
        "id": "MFbm_6AtDhKW",
        "outputId": "787feac2-133f-4c69-bd2c-b78bce440169"
      },
      "execution_count": null,
      "outputs": [
        {
          "output_type": "stream",
          "name": "stdout",
          "text": [
            "Содержимое файла:\n",
            " Привет!\n",
            "СКФУ\n",
            "\n",
            "Файл существует: True\n",
            "Файл удален.\n"
          ]
        }
      ]
    },
    {
      "cell_type": "code",
      "source": [
        "%%writefile script.py\n",
        "%lsmagic\n",
        "%time sum(range(1000000))\n",
        "%%timeit sum(range(1000000))\n",
        "%%writefile script.py\n",
        "print(\"Hello, World!\")\n",
        "!python script.py\n",
        "%ls\n",
        "%history\n"
      ],
      "metadata": {
        "colab": {
          "base_uri": "https://localhost:8080/"
        },
        "id": "2GsCgMsyjDxL",
        "outputId": "e8378d4c-dafd-465b-c43a-8331884279cd"
      },
      "execution_count": null,
      "outputs": [
        {
          "output_type": "stream",
          "name": "stdout",
          "text": [
            "Overwriting script.py\n"
          ]
        }
      ]
    },
    {
      "cell_type": "code",
      "source": [
        "!ls\n",
        "!which python\n",
        "!mkdir new_folder\n",
        "!rmdir new_folder"
      ],
      "metadata": {
        "colab": {
          "base_uri": "https://localhost:8080/"
        },
        "id": "0EIYhZq50ZhK",
        "outputId": "e8eda98c-015d-4f15-f26a-22baed0d2f74"
      },
      "execution_count": null,
      "outputs": [
        {
          "output_type": "stream",
          "name": "stdout",
          "text": [
            "sample_data  script.py\n",
            "/usr/local/bin/python\n"
          ]
        }
      ]
    },
    {
      "cell_type": "code",
      "source": [
        "from google.colab import drive\n",
        "drive.mount('/content/drive')"
      ],
      "metadata": {
        "colab": {
          "base_uri": "https://localhost:8080/"
        },
        "id": "6xo6oJWg3K6W",
        "outputId": "ef8e73be-39b5-4153-8542-0f857e1e4910"
      },
      "execution_count": null,
      "outputs": [
        {
          "output_type": "stream",
          "name": "stdout",
          "text": [
            "Mounted at /content/drive\n"
          ]
        }
      ]
    },
    {
      "cell_type": "code",
      "source": [
        "!ls /content/drive/MyDrive"
      ],
      "metadata": {
        "colab": {
          "base_uri": "https://localhost:8080/"
        },
        "id": "o-aRiF313a7E",
        "outputId": "5fd0b4c3-1123-468c-9694-0ccd3a117e73"
      },
      "execution_count": null,
      "outputs": [
        {
          "output_type": "stream",
          "name": "stdout",
          "text": [
            "'Colab Notebooks'\n"
          ]
        }
      ]
    },
    {
      "cell_type": "code",
      "source": [
        "from google.colab import drive\n",
        "drive.mount('/content/drive')\n",
        "file_path = '/content/drive/MyDrive/text.txt'\n",
        "with open(file_path, 'w') as file:\n",
        "    file.write('Привет!\\n')\n",
        "    file.write('СКФУ\\n')\n",
        "    file.write('2025\\n')\n",
        "print('Файл успешно сохранен в Google Drive.')\n",
        "import os\n",
        "if os.path.exists(file_path):\n",
        "    print('Файл существует!')\n",
        "else:\n",
        "    print('Файл не найден!')\n",
        "with open(file_path, 'r') as file:\n",
        "    content = file.read()\n",
        "print('Содержимое файла:')\n",
        "print(content)\n",
        "students = [\n",
        "    ['Белов Вадим', 20, 'Группа 1'],\n",
        "    ['Бакулин Вадим', 21, 'Группа 2'],\n",
        "    ['Кравчук Мирослав', 22, 'Группа 3']\n",
        "]\n",
        "csv_path = '/content/drive/MyDrive/students.csv'\n",
        "with open(csv_path, 'w') as csv_file:\n",
        "    for student in students:\n",
        "        line = ','.join([str(item) for item in student]) + '\\n'\n",
        "        csv_file.write(line)\n",
        "print('CSV-файл успешно сохранен в Google Drive.')\n"
      ],
      "metadata": {
        "colab": {
          "base_uri": "https://localhost:8080/"
        },
        "id": "3oINVZ7o6i6o",
        "outputId": "3ef0dc22-85ec-44f8-c3b6-5863093e1105"
      },
      "execution_count": null,
      "outputs": [
        {
          "output_type": "stream",
          "name": "stdout",
          "text": [
            "Drive already mounted at /content/drive; to attempt to forcibly remount, call drive.mount(\"/content/drive\", force_remount=True).\n",
            "Файл успешно сохранен в Google Drive.\n",
            "Файл существует!\n",
            "Содержимое файла:\n",
            "Привет!\n",
            "СКФУ\n",
            "2025\n",
            "\n",
            "CSV-файл успешно сохранен в Google Drive.\n"
          ]
        }
      ]
    },
    {
      "cell_type": "code",
      "source": [
        "import numpy as np\n",
        "from scipy.integrate import quad\n",
        "import matplotlib.pyplot as plt\n",
        "def f(x):\n",
        "    return np.where((x >= -np.pi / 2) & (x <= np.pi / 2), 1, -1)\n",
        "def compute_fourier_coefficients(f, T, N):\n",
        "    def integrand_a0(x):\n",
        "        return f(x)\n",
        "    result_a0, _ = quad(integrand_a0, -T/2, T/2)\n",
        "    a0 = result_a0 * (1/T)\n",
        "    coefficients = []\n",
        "    for n in range(1, N+1):\n",
        "        def integrand_an(x):\n",
        "            return f(x)*np.cos(n*2*np.pi*x/T)\n",
        "\n",
        "        def integrand_bn(x):\n",
        "            return f(x)*np.sin(n*2*np.pi*x/T)\n",
        "\n",
        "        result_an, _ = quad(integrand_an, -T/2, T/2)\n",
        "        result_bn, _ = quad(integrand_bn, -T/2, T/2)\n",
        "\n",
        "        an = result_an * (2/T)\n",
        "        bn = result_bn * (2/T)\n",
        "\n",
        "        coefficients.append((an, bn))\n",
        "\n",
        "    return a0, coefficients\n",
        "def approximate_function(a0, coefficients, x_values, T):\n",
        "    approximated_values = np.zeros_like(x_values)\n",
        "    for i, x in enumerate(x_values):\n",
        "        value = a0\n",
        "        for j, (an, bn) in enumerate(coefficients):\n",
        "            n = j + 1\n",
        "            value += an * np.cos(n*2*np.pi*x/T) + bn * np.sin(n*2*np.pi*x/T)\n",
        "        approximated_values[i] = value\n",
        "    return approximated_values\n",
        "T = 2*np.pi\n",
        "N = 10\n",
        "x_values = np.linspace(-np.pi, np.pi, 1000)\n",
        "a0, coeffs = compute_fourier_coefficients(f, T, N)\n",
        "approximated_values = approximate_function(a0, coeffs, x_values, T)\n",
        "plt.figure(figsize=(8, 6))\n",
        "plt.plot(x_values, f(x_values), label='Исходная функция')\n",
        "plt.plot(x_values, approximated_values, '--', label=f'Приближённая функция ({N} гармоник)')\n",
        "plt.legend()\n",
        "plt.title('Разложение функции в ряд Фурье')\n",
        "plt.xlabel('x')\n",
        "plt.ylabel('y')\n",
        "plt.grid(True)\n",
        "plt.show()\n",
        "\n"
      ],
      "metadata": {
        "colab": {
          "base_uri": "https://localhost:8080/",
          "height": 564
        },
        "id": "7GSYwi_9mxQs",
        "outputId": "03e061a8-9dc7-4c90-a7d6-9a8688cc6416"
      },
      "execution_count": 1,
      "outputs": [
        {
          "output_type": "display_data",
          "data": {
            "text/plain": [
              "<Figure size 800x600 with 1 Axes>"
            ],
            "image/png": "[encoded data removed]"
          },
          "metadata": {}
        }
      ]
    }
  ]
}